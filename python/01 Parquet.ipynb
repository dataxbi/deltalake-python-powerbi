{
 "cells": [
  {
   "cell_type": "markdown",
   "metadata": {},
   "source": [
    "## Crear un fichero Parquet desde pandas\n",
    "Para trabajar con ficheros Parquet, pandas necesita la librería pyarrow"
   ]
  },
  {
   "cell_type": "code",
   "execution_count": null,
   "metadata": {},
   "outputs": [],
   "source": [
    "import pandas as pd"
   ]
  },
  {
   "cell_type": "markdown",
   "metadata": {},
   "source": [
    "### Crear Parquet desde CSV"
   ]
  },
  {
   "cell_type": "code",
   "execution_count": null,
   "metadata": {},
   "outputs": [],
   "source": [
    "taxis = pd.read_csv (\n",
    "    './datos/taxis/yellow_tripdata_2021-01.csv', \n",
    "    sep=';', \n",
    "    parse_dates=[\"tpep_pickup_datetime\",\"tpep_dropoff_datetime\"] ,  \n",
    "    dtype={\"store_and_fwd_flag\": \"str\"}\n",
    ")\n",
    "taxis[\"tpep_pickup_datetime\"] = taxis[\"tpep_pickup_datetime\"].astype('datetime64[us]')\n",
    "taxis[\"tpep_dropoff_datetime\"] = taxis[\"tpep_dropoff_datetime\"].astype('datetime64[us]')\n",
    "taxis.to_parquet(\"./datos/taxis_parquet/yellow_tripdata_2021-01.parquet\", index=False)\n"
   ]
  },
  {
   "cell_type": "code",
   "execution_count": null,
   "metadata": {},
   "outputs": [],
   "source": [
    "taxis_parquet = pd.read_parquet(\"./datos/taxis_parquet/yellow_tripdata_2021-01.parquet\")\n",
    "taxis_parquet"
   ]
  },
  {
   "cell_type": "markdown",
   "metadata": {},
   "source": [
    "### Crear Parquet desde Excel\n",
    "Para trabajar con ficheros Excel, pandas necesita la libreria openpyxl"
   ]
  },
  {
   "cell_type": "code",
   "execution_count": null,
   "metadata": {},
   "outputs": [],
   "source": [
    "libro_ventas = pd.read_excel(\"./datos/ventas/ventas.xlsx\", sheet_name=None)"
   ]
  },
  {
   "cell_type": "code",
   "execution_count": null,
   "metadata": {},
   "outputs": [],
   "source": [
    "for (nombre_hoja, df) in libro_ventas.items():\n",
    "    nombre_fichero_parquet = f\"./datos/ventas/{(nombre_hoja.lower())}.parquet\"\n",
    "    df.to_parquet(nombre_fichero_parquet, index=False)\n"
   ]
  },
  {
   "cell_type": "code",
   "execution_count": null,
   "metadata": {},
   "outputs": [],
   "source": [
    "clientes = pd.read_parquet(\"./datos/ventas/clientes.parquet\")\n",
    "clientes"
   ]
  }
 ],
 "metadata": {
  "kernelspec": {
   "display_name": ".venv",
   "language": "python",
   "name": "python3"
  },
  "language_info": {
   "codemirror_mode": {
    "name": "ipython",
    "version": 3
   },
   "file_extension": ".py",
   "mimetype": "text/x-python",
   "name": "python",
   "nbconvert_exporter": "python",
   "pygments_lexer": "ipython3",
   "version": "3.11.4"
  }
 },
 "nbformat": 4,
 "nbformat_minor": 2
}
