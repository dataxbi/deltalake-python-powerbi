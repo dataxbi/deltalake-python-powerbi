{
 "cells": [
  {
   "cell_type": "markdown",
   "metadata": {},
   "source": [
    "## Esquema de un Delta Lake"
   ]
  },
  {
   "cell_type": "code",
   "execution_count": null,
   "metadata": {},
   "outputs": [],
   "source": [
    "from deltalake import DeltaTable, write_deltalake, Schema, Field\n",
    "from deltalake.schema import PrimitiveType\n",
    "import deltalake.schema as schema\n",
    "\n",
    "import pandas as pd\n",
    "import pyarrow as pa"
   ]
  },
  {
   "cell_type": "code",
   "execution_count": null,
   "metadata": {},
   "outputs": [],
   "source": [
    "dt = DeltaTable(\"./datos/delta01/\")\n",
    "dt.to_pandas()"
   ]
  },
  {
   "cell_type": "code",
   "execution_count": null,
   "metadata": {},
   "outputs": [],
   "source": [
    "dt.schema()"
   ]
  },
  {
   "cell_type": "code",
   "execution_count": null,
   "metadata": {},
   "outputs": [],
   "source": [
    "df = pd.DataFrame({\"id\": [8, 9], \"valor\": [\"ocho\", \"nueve\"], \"c3\": [1,2]})\n",
    "write_deltalake(\"./datos/delta01/\", df, mode=\"append\")"
   ]
  },
  {
   "cell_type": "code",
   "execution_count": null,
   "metadata": {},
   "outputs": [],
   "source": [
    "df = pd.DataFrame({\"id\": [\"8\", \"9\"], \"valor\": [\"ocho\", \"nueve\"]})\n",
    "write_deltalake(\"./datos/delta01/\", df, mode=\"append\")"
   ]
  },
  {
   "cell_type": "code",
   "execution_count": null,
   "metadata": {},
   "outputs": [],
   "source": [
    "df = pd.DataFrame({\"Indice\": [8, 9], \"valor\": [\"ocho\", \"nueve\"]})\n",
    "write_deltalake(\"./datos/delta01/\", df, mode=\"append\")"
   ]
  },
  {
   "cell_type": "code",
   "execution_count": null,
   "metadata": {},
   "outputs": [],
   "source": [
    "df = pd.DataFrame({\"id\": [\"8\", \"9\"], \"valor\": [\"ocho\", \"nueve\"]})\n",
    "write_deltalake(\"./datos/delta01/\", df, mode=\"overwrite\", overwrite_schema=True)"
   ]
  },
  {
   "cell_type": "code",
   "execution_count": null,
   "metadata": {},
   "outputs": [],
   "source": [
    "dt = DeltaTable(\"./datos/delta01/\")\n",
    "dt.schema()"
   ]
  },
  {
   "cell_type": "code",
   "execution_count": null,
   "metadata": {},
   "outputs": [],
   "source": [
    "df = pd.DataFrame({\"id\": [8, 9], \"valor\": [\"ocho\", \"nueve\"], \"c3\": [1,2]})\n",
    "write_deltalake(\"./datos/delta01/\", df, mode=\"overwrite\", overwrite_schema=True)"
   ]
  },
  {
   "cell_type": "code",
   "execution_count": null,
   "metadata": {},
   "outputs": [],
   "source": [
    "dt = DeltaTable(\"./datos/delta01/\")\n",
    "dt.schema()"
   ]
  },
  {
   "cell_type": "code",
   "execution_count": null,
   "metadata": {},
   "outputs": [],
   "source": [
    "esquema = Schema(\n",
    "    [\n",
    "        Field(\"id\", PrimitiveType(\"integer\"), nullable=False),\n",
    "        Field(\"valor\", PrimitiveType(\"string\"), nullable=False),\n",
    "    ]\n",
    ")\n",
    "\n",
    "datos = pd.DataFrame(columns=[\"id\",\"valor\"])\n",
    "\n",
    "write_deltalake(\"./datos/delta02/\", datos, schema=esquema)"
   ]
  }
 ],
 "metadata": {
  "kernelspec": {
   "display_name": ".venv",
   "language": "python",
   "name": "python3"
  },
  "language_info": {
   "codemirror_mode": {
    "name": "ipython",
    "version": 3
   },
   "file_extension": ".py",
   "mimetype": "text/x-python",
   "name": "python",
   "nbconvert_exporter": "python",
   "pygments_lexer": "ipython3",
   "version": "3.11.4"
  }
 },
 "nbformat": 4,
 "nbformat_minor": 2
}
