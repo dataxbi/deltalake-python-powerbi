{
 "cells": [
  {
   "cell_type": "markdown",
   "metadata": {},
   "source": [
    "## Optimización de un Delta Lake"
   ]
  },
  {
   "cell_type": "code",
   "execution_count": 71,
   "metadata": {},
   "outputs": [],
   "source": [
    "from datetime import datetime, timedelta\n",
    "import itertools\n",
    "\n",
    "from deltalake import DeltaTable, write_deltalake\n",
    "import pandas as pd\n",
    "import pyarrow as pa\n",
    "import pyarrow.compute as pc"
   ]
  },
  {
   "cell_type": "markdown",
   "metadata": {},
   "source": [
    "### Creando un Delta Lake con todos los viajes de taxis para un año"
   ]
  },
  {
   "cell_type": "code",
   "execution_count": 73,
   "metadata": {},
   "outputs": [
    {
     "name": "stdout",
     "output_type": "stream",
     "text": [
      "Agregando datos del fichero yellow_tripdata_2021-01.csv al Delta Lake...\n",
      "Agregando datos del fichero yellow_tripdata_2021-02.csv al Delta Lake...\n",
      "Agregando datos del fichero yellow_tripdata_2021-03.csv al Delta Lake...\n",
      "Agregando datos del fichero yellow_tripdata_2021-04.csv al Delta Lake...\n",
      "Agregando datos del fichero yellow_tripdata_2021-05.csv al Delta Lake...\n",
      "Agregando datos del fichero yellow_tripdata_2021-06.csv al Delta Lake...\n",
      "Agregando datos del fichero yellow_tripdata_2021-07.csv al Delta Lake...\n",
      "Agregando datos del fichero yellow_tripdata_2021-08.csv al Delta Lake...\n",
      "Agregando datos del fichero yellow_tripdata_2021-09.csv al Delta Lake...\n",
      "Agregando datos del fichero yellow_tripdata_2021-10.csv al Delta Lake...\n",
      "Agregando datos del fichero yellow_tripdata_2021-11.csv al Delta Lake...\n",
      "Agregando datos del fichero yellow_tripdata_2021-12.csv al Delta Lake...\n"
     ]
    }
   ],
   "source": [
    "anyo_actual = datetime.now().year\n",
    "numero_anyos = anyo_actual - 2021\n",
    "for m in range(1,13):\n",
    "    nombre_fichero_csv = f\"yellow_tripdata_2021-{m:02d}.csv\"\n",
    "    taxis = pd.read_csv (\n",
    "        f\"./datos/taxis/{nombre_fichero_csv}\", \n",
    "        sep=';', \n",
    "        parse_dates=[\"tpep_pickup_datetime\",\"tpep_dropoff_datetime\"] ,  \n",
    "        dtype={\"store_and_fwd_flag\": \"str\"}\n",
    "    )\n",
    "    taxis[\"tpep_pickup_datetime\"] =  taxis[\"tpep_pickup_datetime\"] + pd.DateOffset(years=numero_anyos)\n",
    "    taxis[\"tpep_dropoff_datetime\"] =  taxis[\"tpep_dropoff_datetime\"] + pd.DateOffset(years=numero_anyos)\n",
    "    taxis[\"pickup_date\"] = pd.to_datetime(taxis[\"tpep_pickup_datetime\"].dt.date)\n",
    "    taxis[\"pickup_year_month\"] = taxis[\"tpep_pickup_datetime\"].dt.year * 100 + taxis[\"tpep_pickup_datetime\"].dt.month\n",
    "\n",
    "    taxis = taxis[(taxis[\"pickup_date\"].dt.year == anyo_actual) & (taxis[\"pickup_date\"].dt.month == m)]\n",
    "    \n",
    "    print(f\"Agregando datos del fichero {nombre_fichero_csv} al Delta Lake...\")\n",
    "    write_deltalake(\"./datos/taxis_delta/\", taxis, mode=\"append\")"
   ]
  },
  {
   "cell_type": "code",
   "execution_count": 74,
   "metadata": {},
   "outputs": [],
   "source": [
    "dt = DeltaTable(\"./datos/taxis_delta/\")\n",
    "taxis = dt.to_pandas()"
   ]
  },
  {
   "cell_type": "markdown",
   "metadata": {},
   "source": [
    "### Particiones"
   ]
  },
  {
   "cell_type": "code",
   "execution_count": 75,
   "metadata": {},
   "outputs": [],
   "source": [
    "write_deltalake(\"./datos/taxis_delta_part_month/\", taxis, partition_by=\"pickup_year_month\")"
   ]
  },
  {
   "cell_type": "markdown",
   "metadata": {},
   "source": [
    "### Z Order"
   ]
  },
  {
   "cell_type": "code",
   "execution_count": null,
   "metadata": {},
   "outputs": [],
   "source": [
    "write_deltalake(\"./datos/taxis_delta_z\", taxis, name=\"taxis\")"
   ]
  },
  {
   "cell_type": "code",
   "execution_count": null,
   "metadata": {},
   "outputs": [],
   "source": [
    "dt = DeltaTable(\"./datos/taxis_delta_z\")\n",
    "dt.optimize.z_order(columns=[\"pickup_year_month\"])"
   ]
  },
  {
   "cell_type": "markdown",
   "metadata": {},
   "source": [
    "### Compactación de ficheros pequeños"
   ]
  },
  {
   "cell_type": "code",
   "execution_count": null,
   "metadata": {},
   "outputs": [],
   "source": [
    "def record_observations(date):\n",
    "    \"\"\"Pulls data for a certain datetime\"\"\"\n",
    "    nrows = 1000\n",
    "    return pa.table (\n",
    "        {\n",
    "            \"date\": pa.array([date.date()] * nrows),\n",
    "            \"timestamp\": pa.array([date] * nrows),\n",
    "            \"value\": pc.random(nrows),\n",
    "        }\n",
    "    )\n",
    "\n",
    "# Every hour starting at midnight on 2023-12-14\n",
    "hours_iter = (datetime(2023, 12, 14) + timedelta(hours=i) for i in itertools.count())\n",
    "\n",
    "# Write 100 hours worth of data\n",
    "for timestamp in itertools.islice(hours_iter, 100):\n",
    "    write_deltalake(\n",
    "        \"./datos/observation_data\",\n",
    "        record_observations(timestamp),\n",
    "        partition_by=[\"date\"],\n",
    "        mode=\"append\",\n",
    "    )\n"
   ]
  },
  {
   "cell_type": "code",
   "execution_count": null,
   "metadata": {},
   "outputs": [],
   "source": [
    "dt = DeltaTable('./datos/observation_data')\n",
    "dt.to_pandas()"
   ]
  },
  {
   "cell_type": "code",
   "execution_count": null,
   "metadata": {},
   "outputs": [],
   "source": [
    "dt.files()"
   ]
  },
  {
   "cell_type": "code",
   "execution_count": null,
   "metadata": {},
   "outputs": [],
   "source": [
    "dt.optimize.compact()"
   ]
  },
  {
   "cell_type": "code",
   "execution_count": null,
   "metadata": {},
   "outputs": [],
   "source": [
    "dt.files()"
   ]
  },
  {
   "cell_type": "code",
   "execution_count": null,
   "metadata": {},
   "outputs": [],
   "source": [
    "dt.vacuum(retention_hours=0, enforce_retention_duration=False, dry_run=False)"
   ]
  }
 ],
 "metadata": {
  "kernelspec": {
   "display_name": ".venv",
   "language": "python",
   "name": "python3"
  },
  "language_info": {
   "codemirror_mode": {
    "name": "ipython",
    "version": 3
   },
   "file_extension": ".py",
   "mimetype": "text/x-python",
   "name": "python",
   "nbconvert_exporter": "python",
   "pygments_lexer": "ipython3",
   "version": "3.11.4"
  }
 },
 "nbformat": 4,
 "nbformat_minor": 2
}
